{
  "nbformat": 4,
  "nbformat_minor": 0,
  "metadata": {
    "colab": {
      "provenance": [],
      "authorship_tag": "ABX9TyP/SJ4gRXXv9Q2shCkvsy/F",
      "include_colab_link": true
    },
    "kernelspec": {
      "name": "python3",
      "display_name": "Python 3"
    },
    "language_info": {
      "name": "python"
    }
  },
  "cells": [
    {
      "cell_type": "markdown",
      "metadata": {
        "id": "view-in-github",
        "colab_type": "text"
      },
      "source": [
        "<a href=\"https://colab.research.google.com/github/NAvilCap/Probabilidad1/blob/main/Probabilidad_Binominal.ipynb\" target=\"_parent\"><img src=\"https://colab.research.google.com/assets/colab-badge.svg\" alt=\"Open In Colab\"/></a>"
      ]
    },
    {
      "cell_type": "markdown",
      "source": [
        "## Distribucion Poisson Binominal"
      ],
      "metadata": {
        "id": "SmQllNPGOO7g"
      }
    },
    {
      "cell_type": "code",
      "execution_count": 4,
      "metadata": {
        "id": "-UH1-nAyOK8i",
        "colab": {
          "base_uri": "https://localhost:8080/"
        },
        "outputId": "f88f4212-728a-4039-8c3f-9c47092f2d6c"
      },
      "outputs": [
        {
          "output_type": "stream",
          "name": "stdout",
          "text": [
            "La probabilidad de que ningún paciente sufra la enfermedad es: 0.0507282029895386\n"
          ]
        }
      ],
      "source": [
        "from scipy.stats import binom\n",
        "#Parámetros de la distribución binomial\n",
        "probabilidad_exito = 0.83\n",
        "num_pacientes = 16\n",
        "X = 16\n",
        "# Numero de exitos\n",
        "# Calcular la probabilidad de que ningún paciente sufra la enfermedad\n",
        "probabilidad_ninguno_enfermo = binom.pmf( X, num_pacientes, probabilidad_exito)\n",
        "print(\"La probabilidad de que ningún paciente sufra la enfermedad es:\", probabilidad_ninguno_enfermo)"
      ]
    },
    {
      "cell_type": "code",
      "source": [
        "# Parámetros de la distribución binomial\n",
        "probabilidad_exito = 0.83\n",
        "num_pacientes = 16\n",
        "X = 0\n",
        "# Calcular la probabilidad de que todos los pacientes sufran la enfermedad\n",
        "probabilidad_todos_enfermos = binom.pmf(X, num_pacientes, probabilidad_exito)\n",
        "print(\"La probabilidad de que todos los pacientes sufran la enfermedad es:\", probabilidad_todos_enfermos)"
      ],
      "metadata": {
        "colab": {
          "base_uri": "https://localhost:8080/"
        },
        "id": "8GxWROsm9bBU",
        "outputId": "c92f2ccb-fba9-45bc-98e1-625a5fc78ccf"
      },
      "execution_count": 7,
      "outputs": [
        {
          "output_type": "stream",
          "name": "stdout",
          "text": [
            "La probabilidad de que todos los pacientes sufran la enfermedad es: 4.866119187566701e-13\n"
          ]
        }
      ]
    },
    {
      "cell_type": "markdown",
      "source": [
        "Ejercicio 2"
      ],
      "metadata": {
        "id": "NEviB0Lf9-7A"
      }
    },
    {
      "cell_type": "code",
      "source": [
        "n = 10\n",
        "p = 0.10\n",
        "x=2\n",
        "# Calcular la probabilidad de la variable aleatoria x - 2\n",
        "probabilidad_x_2 = binom. pmf(x, n, p)\n",
        "print(\"La probabilidad de que la variable aleatoria X sea igual a 2 es:\", probabilidad_x_2)"
      ],
      "metadata": {
        "colab": {
          "base_uri": "https://localhost:8080/"
        },
        "id": "sKKa9yI29zR2",
        "outputId": "b2012885-5c45-490b-f8a9-82084d00eb4e"
      },
      "execution_count": 9,
      "outputs": [
        {
          "output_type": "stream",
          "name": "stdout",
          "text": [
            "La probabilidad de que la variable aleatoria X sea igual a 2 es: 0.19371024450000007\n"
          ]
        }
      ]
    },
    {
      "cell_type": "code",
      "source": [],
      "metadata": {
        "colab": {
          "base_uri": "https://localhost:8080/",
          "height": 106
        },
        "id": "ycesImug9zPD",
        "outputId": "b0351d1b-0bd6-4aea-c028-4040e6794db4"
      },
      "execution_count": 20,
      "outputs": [
        {
          "output_type": "error",
          "ename": "IndentationError",
          "evalue": "expected an indented block after 'for' statement on line 12 (<ipython-input-20-498dcdf7e490>, line 14)",
          "traceback": [
            "\u001b[0;36m  File \u001b[0;32m\"<ipython-input-20-498dcdf7e490>\"\u001b[0;36m, line \u001b[0;32m14\u001b[0m\n\u001b[0;31m    print(f\"{x} \\t\\t {probabilidad}\")\u001b[0m\n\u001b[0m    ^\u001b[0m\n\u001b[0;31mIndentationError\u001b[0m\u001b[0;31m:\u001b[0m expected an indented block after 'for' statement on line 12\n"
          ]
        }
      ]
    },
    {
      "cell_type": "code",
      "source": [
        "import numpy as np\n",
        "import matplotlib.pyplot as plt\n",
        "from scipy.stats import binom\n",
        "\n",
        "# Parámetros de la distribución binomial\n",
        "n = 10\n",
        "p = 0.10\n",
        "\n",
        "# Calcular las probabilidades para cada valor de x de 0 a 10\n",
        "valores_x = np.arange(0, n + 1)\n",
        "probabilidades_x = [binom.pmf(x, n, p) for x in valores_x]\n",
        "\n",
        "# Imprimir la tabla de valores de x y sus probabilidades\n",
        "print(\"Valores de x \\tProbabilidades\")\n",
        "for x, probabilidad in zip(valores_x, probabilidades_x):\n",
        "    print(f\"{x} \\t\\t {probabilidad:.4f}\")\n"
      ],
      "metadata": {
        "colab": {
          "base_uri": "https://localhost:8080/"
        },
        "id": "N75lpqUt9zL2",
        "outputId": "754c3d61-a24b-4ccd-ec00-6c5b50c47d93"
      },
      "execution_count": 21,
      "outputs": [
        {
          "output_type": "stream",
          "name": "stdout",
          "text": [
            "Valores de x \tProbabilidades\n",
            "0 \t\t 0.3487\n",
            "1 \t\t 0.3874\n",
            "2 \t\t 0.1937\n",
            "3 \t\t 0.0574\n",
            "4 \t\t 0.0112\n",
            "5 \t\t 0.0015\n",
            "6 \t\t 0.0001\n",
            "7 \t\t 0.0000\n",
            "8 \t\t 0.0000\n",
            "9 \t\t 0.0000\n",
            "10 \t\t 0.0000\n"
          ]
        }
      ]
    },
    {
      "cell_type": "code",
      "source": [
        "# Graficar el histograma de la distribución binomial\n",
        "plt. figure(figsize=(8, 6))\n",
        "plt. bar (valores_x, probabilidades_x, color='skyblue')\n",
        "plt. title('Distribución Binomial')\n",
        "plt.xlabel( 'Valor de X')\n",
        "plt.ylabel( 'Probabilidad')\n",
        "plt.xticks (valores_x)\n",
        "plt. grid (True)\n",
        "plt. show ()"
      ],
      "metadata": {
        "colab": {
          "base_uri": "https://localhost:8080/",
          "height": 564
        },
        "id": "4w4eerOb9zGt",
        "outputId": "2c50a4c3-6122-423e-cb76-54961babc301"
      },
      "execution_count": 24,
      "outputs": [
        {
          "output_type": "display_data",
          "data": {
            "text/plain": [
              "<Figure size 800x600 with 1 Axes>"
            ],
            "image/png": "[encoded data removed]"
          },
          "metadata": {}
        }
      ]
    },
    {
      "cell_type": "code",
      "source": [],
      "metadata": {
        "id": "G6p87Rxd9y80"
      },
      "execution_count": null,
      "outputs": []
    }
  ]
}