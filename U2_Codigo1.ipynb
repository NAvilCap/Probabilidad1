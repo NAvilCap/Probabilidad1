{
  "nbformat": 4,
  "nbformat_minor": 0,
  "metadata": {
    "colab": {
      "provenance": [],
      "authorship_tag": "ABX9TyMBemPx6VUQ7O5DabsxuRix",
      "include_colab_link": true
    },
    "kernelspec": {
      "name": "python3",
      "display_name": "Python 3"
    },
    "language_info": {
      "name": "python"
    }
  },
  "cells": [
    {
      "cell_type": "markdown",
      "metadata": {
        "id": "view-in-github",
        "colab_type": "text"
      },
      "source": [
        "<a href=\"https://colab.research.google.com/github/NAvilCap/Probabilidad1/blob/main/U2_Codigo1.ipynb\" target=\"_parent\"><img src=\"https://colab.research.google.com/assets/colab-badge.svg\" alt=\"Open In Colab\"/></a>"
      ]
    },
    {
      "cell_type": "code",
      "execution_count": 1,
      "metadata": {
        "id": "3jl4Rx6ZLTUQ"
      },
      "outputs": [],
      "source": [
        "import math as mt\n",
        "from itertools import combinations\n",
        "from itertools import combinations_with_replacement\n",
        "import numpy as np"
      ]
    },
    {
      "cell_type": "code",
      "source": [
        "nombres = [\"Oscar\", \"Paco\", \"Paty\", \"Laura\", \"Ruben\", \"Luis\", \"Alberto\", \"Juan\", \"Danny\"]\n",
        "n= len(nombres)\n",
        "r= 2 # ¿como agrupar?\n"
      ],
      "metadata": {
        "id": "2-zGa5ClLrdv"
      },
      "execution_count": 2,
      "outputs": []
    },
    {
      "cell_type": "code",
      "source": [
        "Cn = mt.factorial(n) / (mt.factorial(r) * mt.factorial(n-r))\n"
      ],
      "metadata": {
        "id": "Hp2StaI_LrjF"
      },
      "execution_count": 3,
      "outputs": []
    },
    {
      "cell_type": "code",
      "source": [
        "print(\"Existen\", Cn, \" posibles combinaciones sin repeticion del total de \",\n",
        "      n, \" nombres \", \" en grupos de \", r ,\" en \", r)\n"
      ],
      "metadata": {
        "colab": {
          "base_uri": "https://localhost:8080/"
        },
        "id": "CNFcDqMgLroC",
        "outputId": "2cb697fc-fc4e-4bb1-aecb-1b3bffad5167"
      },
      "execution_count": 4,
      "outputs": [
        {
          "output_type": "stream",
          "name": "stdout",
          "text": [
            "Existen 36.0  posibles combinaciones sin repeticion del total de  9  nombres   en grupos de  2  en  2\n"
          ]
        }
      ]
    },
    {
      "cell_type": "code",
      "source": [
        "print(\"Aqui las combinaciones\")\n",
        "combinaciones_nombres = list(combinations(nombres, r))"
      ],
      "metadata": {
        "colab": {
          "base_uri": "https://localhost:8080/"
        },
        "id": "qpVUk2QJLrta",
        "outputId": "9cdf7733-8954-4a4b-ddfd-41b676614cc9"
      },
      "execution_count": 5,
      "outputs": [
        {
          "output_type": "stream",
          "name": "stdout",
          "text": [
            "Aqui las combinaciones\n"
          ]
        }
      ]
    },
    {
      "cell_type": "code",
      "source": [
        "#Imprimir combinaciones\n",
        "for combinacion in combinaciones_nombres :\n",
        "  print(combinacion)"
      ],
      "metadata": {
        "colab": {
          "base_uri": "https://localhost:8080/"
        },
        "id": "IIcNIPrQL4sG",
        "outputId": "9b7e6566-f759-4b43-9716-3185627fcf85"
      },
      "execution_count": 6,
      "outputs": [
        {
          "output_type": "stream",
          "name": "stdout",
          "text": [
            "('Oscar', 'Paco')\n",
            "('Oscar', 'Paty')\n",
            "('Oscar', 'Laura')\n",
            "('Oscar', 'Ruben')\n",
            "('Oscar', 'Luis')\n",
            "('Oscar', 'Alberto')\n",
            "('Oscar', 'Juan')\n",
            "('Oscar', 'Danny')\n",
            "('Paco', 'Paty')\n",
            "('Paco', 'Laura')\n",
            "('Paco', 'Ruben')\n",
            "('Paco', 'Luis')\n",
            "('Paco', 'Alberto')\n",
            "('Paco', 'Juan')\n",
            "('Paco', 'Danny')\n",
            "('Paty', 'Laura')\n",
            "('Paty', 'Ruben')\n",
            "('Paty', 'Luis')\n",
            "('Paty', 'Alberto')\n",
            "('Paty', 'Juan')\n",
            "('Paty', 'Danny')\n",
            "('Laura', 'Ruben')\n",
            "('Laura', 'Luis')\n",
            "('Laura', 'Alberto')\n",
            "('Laura', 'Juan')\n",
            "('Laura', 'Danny')\n",
            "('Ruben', 'Luis')\n",
            "('Ruben', 'Alberto')\n",
            "('Ruben', 'Juan')\n",
            "('Ruben', 'Danny')\n",
            "('Luis', 'Alberto')\n",
            "('Luis', 'Juan')\n",
            "('Luis', 'Danny')\n",
            "('Alberto', 'Juan')\n",
            "('Alberto', 'Danny')\n",
            "('Juan', 'Danny')\n"
          ]
        }
      ]
    },
    {
      "cell_type": "code",
      "source": [
        "caracteres = [\"A\", \"B\", \"C\", \"D\", \"E\", \"F\", \"0\", \"1\", \"2\", \"3\", \"4\", \"5\"]\n",
        "n = len(caracteres)\n",
        "r = 10  #¿como agrupár?"
      ],
      "metadata": {
        "id": "7OeTws-GL4u3"
      },
      "execution_count": 10,
      "outputs": []
    },
    {
      "cell_type": "code",
      "source": [
        "Cn = mt.factorial(n) / (mt.factorial(r) * mt.factorial(n-r))"
      ],
      "metadata": {
        "id": "IZil3ZrrL4xe"
      },
      "execution_count": 8,
      "outputs": []
    },
    {
      "cell_type": "code",
      "source": [
        "print(\"Existen \", Cn , \" posibles combinaciones sin repeticion del total de \", n ,\n",
        "      \" caracteres \", \" en grupos de \", r ,\" en \", r)"
      ],
      "metadata": {
        "colab": {
          "base_uri": "https://localhost:8080/"
        },
        "id": "F1YtovD7L4z4",
        "outputId": "1ae579f6-2bac-4ab5-fabe-3896c8aaf098"
      },
      "execution_count": 9,
      "outputs": [
        {
          "output_type": "stream",
          "name": "stdout",
          "text": [
            "Existen  36.0  posibles combinaciones sin repeticion del total de  9  caracteres   en grupos de  2  en  2\n"
          ]
        }
      ]
    },
    {
      "cell_type": "code",
      "source": [
        "print(\"Aqui las combinaciones\")\n",
        "combinaciones_caracteres = list(combinations(caracteres, r))\n"
      ],
      "metadata": {
        "colab": {
          "base_uri": "https://localhost:8080/"
        },
        "id": "x5Tj90lRL42h",
        "outputId": "e0414f12-eb2b-4fe1-ef1a-35796d0e5939"
      },
      "execution_count": 11,
      "outputs": [
        {
          "output_type": "stream",
          "name": "stdout",
          "text": [
            "Aqui las combinaciones\n"
          ]
        }
      ]
    },
    {
      "cell_type": "code",
      "source": [
        "#imprime las combinaciones\n",
        "for combinacion in combinaciones_caracteres :\n",
        "  print(combinacion)"
      ],
      "metadata": {
        "colab": {
          "base_uri": "https://localhost:8080/"
        },
        "id": "oJKeVuuKL446",
        "outputId": "60fe6ae6-0c76-4456-9e4d-964f5ef9da3a"
      },
      "execution_count": 12,
      "outputs": [
        {
          "output_type": "stream",
          "name": "stdout",
          "text": [
            "('A', 'B', 'C', 'D', 'E', 'F', '0', '1', '2', '3')\n",
            "('A', 'B', 'C', 'D', 'E', 'F', '0', '1', '2', '4')\n",
            "('A', 'B', 'C', 'D', 'E', 'F', '0', '1', '2', '5')\n",
            "('A', 'B', 'C', 'D', 'E', 'F', '0', '1', '3', '4')\n",
            "('A', 'B', 'C', 'D', 'E', 'F', '0', '1', '3', '5')\n",
            "('A', 'B', 'C', 'D', 'E', 'F', '0', '1', '4', '5')\n",
            "('A', 'B', 'C', 'D', 'E', 'F', '0', '2', '3', '4')\n",
            "('A', 'B', 'C', 'D', 'E', 'F', '0', '2', '3', '5')\n",
            "('A', 'B', 'C', 'D', 'E', 'F', '0', '2', '4', '5')\n",
            "('A', 'B', 'C', 'D', 'E', 'F', '0', '3', '4', '5')\n",
            "('A', 'B', 'C', 'D', 'E', 'F', '1', '2', '3', '4')\n",
            "('A', 'B', 'C', 'D', 'E', 'F', '1', '2', '3', '5')\n",
            "('A', 'B', 'C', 'D', 'E', 'F', '1', '2', '4', '5')\n",
            "('A', 'B', 'C', 'D', 'E', 'F', '1', '3', '4', '5')\n",
            "('A', 'B', 'C', 'D', 'E', 'F', '2', '3', '4', '5')\n",
            "('A', 'B', 'C', 'D', 'E', '0', '1', '2', '3', '4')\n",
            "('A', 'B', 'C', 'D', 'E', '0', '1', '2', '3', '5')\n",
            "('A', 'B', 'C', 'D', 'E', '0', '1', '2', '4', '5')\n",
            "('A', 'B', 'C', 'D', 'E', '0', '1', '3', '4', '5')\n",
            "('A', 'B', 'C', 'D', 'E', '0', '2', '3', '4', '5')\n",
            "('A', 'B', 'C', 'D', 'E', '1', '2', '3', '4', '5')\n",
            "('A', 'B', 'C', 'D', 'F', '0', '1', '2', '3', '4')\n",
            "('A', 'B', 'C', 'D', 'F', '0', '1', '2', '3', '5')\n",
            "('A', 'B', 'C', 'D', 'F', '0', '1', '2', '4', '5')\n",
            "('A', 'B', 'C', 'D', 'F', '0', '1', '3', '4', '5')\n",
            "('A', 'B', 'C', 'D', 'F', '0', '2', '3', '4', '5')\n",
            "('A', 'B', 'C', 'D', 'F', '1', '2', '3', '4', '5')\n",
            "('A', 'B', 'C', 'D', '0', '1', '2', '3', '4', '5')\n",
            "('A', 'B', 'C', 'E', 'F', '0', '1', '2', '3', '4')\n",
            "('A', 'B', 'C', 'E', 'F', '0', '1', '2', '3', '5')\n",
            "('A', 'B', 'C', 'E', 'F', '0', '1', '2', '4', '5')\n",
            "('A', 'B', 'C', 'E', 'F', '0', '1', '3', '4', '5')\n",
            "('A', 'B', 'C', 'E', 'F', '0', '2', '3', '4', '5')\n",
            "('A', 'B', 'C', 'E', 'F', '1', '2', '3', '4', '5')\n",
            "('A', 'B', 'C', 'E', '0', '1', '2', '3', '4', '5')\n",
            "('A', 'B', 'C', 'F', '0', '1', '2', '3', '4', '5')\n",
            "('A', 'B', 'D', 'E', 'F', '0', '1', '2', '3', '4')\n",
            "('A', 'B', 'D', 'E', 'F', '0', '1', '2', '3', '5')\n",
            "('A', 'B', 'D', 'E', 'F', '0', '1', '2', '4', '5')\n",
            "('A', 'B', 'D', 'E', 'F', '0', '1', '3', '4', '5')\n",
            "('A', 'B', 'D', 'E', 'F', '0', '2', '3', '4', '5')\n",
            "('A', 'B', 'D', 'E', 'F', '1', '2', '3', '4', '5')\n",
            "('A', 'B', 'D', 'E', '0', '1', '2', '3', '4', '5')\n",
            "('A', 'B', 'D', 'F', '0', '1', '2', '3', '4', '5')\n",
            "('A', 'B', 'E', 'F', '0', '1', '2', '3', '4', '5')\n",
            "('A', 'C', 'D', 'E', 'F', '0', '1', '2', '3', '4')\n",
            "('A', 'C', 'D', 'E', 'F', '0', '1', '2', '3', '5')\n",
            "('A', 'C', 'D', 'E', 'F', '0', '1', '2', '4', '5')\n",
            "('A', 'C', 'D', 'E', 'F', '0', '1', '3', '4', '5')\n",
            "('A', 'C', 'D', 'E', 'F', '0', '2', '3', '4', '5')\n",
            "('A', 'C', 'D', 'E', 'F', '1', '2', '3', '4', '5')\n",
            "('A', 'C', 'D', 'E', '0', '1', '2', '3', '4', '5')\n",
            "('A', 'C', 'D', 'F', '0', '1', '2', '3', '4', '5')\n",
            "('A', 'C', 'E', 'F', '0', '1', '2', '3', '4', '5')\n",
            "('A', 'D', 'E', 'F', '0', '1', '2', '3', '4', '5')\n",
            "('B', 'C', 'D', 'E', 'F', '0', '1', '2', '3', '4')\n",
            "('B', 'C', 'D', 'E', 'F', '0', '1', '2', '3', '5')\n",
            "('B', 'C', 'D', 'E', 'F', '0', '1', '2', '4', '5')\n",
            "('B', 'C', 'D', 'E', 'F', '0', '1', '3', '4', '5')\n",
            "('B', 'C', 'D', 'E', 'F', '0', '2', '3', '4', '5')\n",
            "('B', 'C', 'D', 'E', 'F', '1', '2', '3', '4', '5')\n",
            "('B', 'C', 'D', 'E', '0', '1', '2', '3', '4', '5')\n",
            "('B', 'C', 'D', 'F', '0', '1', '2', '3', '4', '5')\n",
            "('B', 'C', 'E', 'F', '0', '1', '2', '3', '4', '5')\n",
            "('B', 'D', 'E', 'F', '0', '1', '2', '3', '4', '5')\n",
            "('C', 'D', 'E', 'F', '0', '1', '2', '3', '4', '5')\n"
          ]
        }
      ]
    },
    {
      "cell_type": "code",
      "source": [
        "dado = [1, 2, 3, 4, 5, 6]\n",
        "n = len(dado)\n",
        "r = 2 # ¿como agrupar? de dos en dos porque hay dos dados\n"
      ],
      "metadata": {
        "id": "KJivSOh2MOL0"
      },
      "execution_count": 13,
      "outputs": []
    },
    {
      "cell_type": "code",
      "source": [
        "CnR = mt.factorial(n+r-1) / (mt.factorial(r) * mt.factorial((n+r-1)-r))\n"
      ],
      "metadata": {
        "id": "lHfr43H8MOTt"
      },
      "execution_count": 14,
      "outputs": []
    },
    {
      "cell_type": "code",
      "source": [
        "print(\"Existen \", CnR , \"posibles combinaciones con repeticion del total de \", n ,\n",
        "      \" caracteres \", \" en grupos de \", r , \" en \", r)\n",
        "print(\"Aqui las combinaciones con repeticion de dos dados\")"
      ],
      "metadata": {
        "colab": {
          "base_uri": "https://localhost:8080/"
        },
        "id": "HEtMOSmVMOa3",
        "outputId": "331fb51f-4e2b-4d5a-bd16-f5591ce642c9"
      },
      "execution_count": 15,
      "outputs": [
        {
          "output_type": "stream",
          "name": "stdout",
          "text": [
            "Existen  21.0 posibles combinaciones con repeticion del total de  6  caracteres   en grupos de  2  en  2\n",
            "Aqui las combinaciones con repeticion de dos dados\n"
          ]
        }
      ]
    },
    {
      "cell_type": "code",
      "source": [
        "# Definir el conjunto de elementos\n",
        "elementos = [1, 2, 3, 4, 5, 6]\n"
      ],
      "metadata": {
        "id": "7MoS86ThMOg1"
      },
      "execution_count": 16,
      "outputs": []
    },
    {
      "cell_type": "code",
      "source": [
        "# numero de elementos a elegir en cada combinacion\n",
        "r = 2"
      ],
      "metadata": {
        "id": "lJ02fbEsMOja"
      },
      "execution_count": 17,
      "outputs": []
    },
    {
      "cell_type": "code",
      "source": [
        "# Calcular las combinaciones con repeticion\n",
        "combinaciones_dados = list(combinations_with_replacement(dado, r))"
      ],
      "metadata": {
        "id": "wfRLi9pYMOoR"
      },
      "execution_count": 18,
      "outputs": []
    },
    {
      "cell_type": "code",
      "source": [
        "# Imprimir las combinaciones\n",
        "for combinacion in combinaciones_dados :\n",
        "  print(combinacion)"
      ],
      "metadata": {
        "colab": {
          "base_uri": "https://localhost:8080/"
        },
        "id": "2V-t-i6vMOtJ",
        "outputId": "b3f8acd0-3634-4562-8753-7a76792b04f0"
      },
      "execution_count": 19,
      "outputs": [
        {
          "output_type": "stream",
          "name": "stdout",
          "text": [
            "(1, 1)\n",
            "(1, 2)\n",
            "(1, 3)\n",
            "(1, 4)\n",
            "(1, 5)\n",
            "(1, 6)\n",
            "(2, 2)\n",
            "(2, 3)\n",
            "(2, 4)\n",
            "(2, 5)\n",
            "(2, 6)\n",
            "(3, 3)\n",
            "(3, 4)\n",
            "(3, 5)\n",
            "(3, 6)\n",
            "(4, 4)\n",
            "(4, 5)\n",
            "(4, 6)\n",
            "(5, 5)\n",
            "(5, 6)\n",
            "(6, 6)\n"
          ]
        }
      ]
    },
    {
      "cell_type": "markdown",
      "source": [
        "## Permutaciones en Python"
      ],
      "metadata": {
        "id": "Uhy6l2lUNT-_"
      }
    },
    {
      "cell_type": "code",
      "source": [
        "import math as mt #Para utilizar factorial\n",
        "from itertools import permutations\n",
        "from itertools import product\n",
        "import numpy as np\n",
        "\n"
      ],
      "metadata": {
        "id": "nj96lPjzMOvu"
      },
      "execution_count": 20,
      "outputs": []
    },
    {
      "cell_type": "code",
      "source": [
        "mt.factorial(7)\n",
        ""
      ],
      "metadata": {
        "colab": {
          "base_uri": "https://localhost:8080/"
        },
        "id": "sxqDuYbBMO0E",
        "outputId": "68f5da8c-4b07-4cd8-8184-f7b733b82bf3"
      },
      "execution_count": 21,
      "outputs": [
        {
          "output_type": "execute_result",
          "data": {
            "text/plain": [
              "5040"
            ]
          },
          "metadata": {},
          "execution_count": 21
        }
      ]
    },
    {
      "cell_type": "code",
      "source": [
        "mt.factorial(4)"
      ],
      "metadata": {
        "colab": {
          "base_uri": "https://localhost:8080/"
        },
        "id": "vMNK2XhSNjrD",
        "outputId": "90dfa0b4-8985-4654-ee5b-360e288fd3a2"
      },
      "execution_count": 22,
      "outputs": [
        {
          "output_type": "execute_result",
          "data": {
            "text/plain": [
              "24"
            ]
          },
          "metadata": {},
          "execution_count": 22
        }
      ]
    },
    {
      "cell_type": "code",
      "source": [
        "5040/24"
      ],
      "metadata": {
        "colab": {
          "base_uri": "https://localhost:8080/"
        },
        "id": "5Mo1ederNjoh",
        "outputId": "aad22e15-836a-43f6-d6ff-935c75246cc2"
      },
      "execution_count": 24,
      "outputs": [
        {
          "output_type": "execute_result",
          "data": {
            "text/plain": [
              "210.0"
            ]
          },
          "metadata": {},
          "execution_count": 24
        }
      ]
    },
    {
      "cell_type": "code",
      "source": [
        "nombres = [\"a\", \"b\", \"c\", \"d\", \"e\", \"f\", \"g\"]\n",
        "n = len(nombres)\n",
        "r = 3\n",
        "\n",
        "Pr = mt.factorial(n) / (mt.factorial(n-r))\n",
        "\n",
        "print(\"Existen \", Pr , \" posibles permutaciones sin repeticion del total de \",\n",
        "      n , \" nombres \", \" en grupos de \", r ,\" en \", r)\n",
        "\n",
        "print(\"Aqui las permutaciones\")\n",
        "permutaciones_nombres = list(permutations(nombres, r))\n",
        "\n",
        "# Imprime las permutaciones\n",
        "for permutacion in permutaciones_nombres:\n",
        "    print(permutacion)"
      ],
      "metadata": {
        "colab": {
          "base_uri": "https://localhost:8080/"
        },
        "id": "5ZLR6vj-NjkA",
        "outputId": "5de1a036-f8da-49a8-84ae-a3923ee3c4da"
      },
      "execution_count": 23,
      "outputs": [
        {
          "output_type": "stream",
          "name": "stdout",
          "text": [
            "Existen  210.0  posibles permutaciones sin repeticion del total de  7  nombres   en grupos de  3  en  3\n",
            "Aqui las permutaciones\n",
            "('a', 'b', 'c')\n",
            "('a', 'b', 'd')\n",
            "('a', 'b', 'e')\n",
            "('a', 'b', 'f')\n",
            "('a', 'b', 'g')\n",
            "('a', 'c', 'b')\n",
            "('a', 'c', 'd')\n",
            "('a', 'c', 'e')\n",
            "('a', 'c', 'f')\n",
            "('a', 'c', 'g')\n",
            "('a', 'd', 'b')\n",
            "('a', 'd', 'c')\n",
            "('a', 'd', 'e')\n",
            "('a', 'd', 'f')\n",
            "('a', 'd', 'g')\n",
            "('a', 'e', 'b')\n",
            "('a', 'e', 'c')\n",
            "('a', 'e', 'd')\n",
            "('a', 'e', 'f')\n",
            "('a', 'e', 'g')\n",
            "('a', 'f', 'b')\n",
            "('a', 'f', 'c')\n",
            "('a', 'f', 'd')\n",
            "('a', 'f', 'e')\n",
            "('a', 'f', 'g')\n",
            "('a', 'g', 'b')\n",
            "('a', 'g', 'c')\n",
            "('a', 'g', 'd')\n",
            "('a', 'g', 'e')\n",
            "('a', 'g', 'f')\n",
            "('b', 'a', 'c')\n",
            "('b', 'a', 'd')\n",
            "('b', 'a', 'e')\n",
            "('b', 'a', 'f')\n",
            "('b', 'a', 'g')\n",
            "('b', 'c', 'a')\n",
            "('b', 'c', 'd')\n",
            "('b', 'c', 'e')\n",
            "('b', 'c', 'f')\n",
            "('b', 'c', 'g')\n",
            "('b', 'd', 'a')\n",
            "('b', 'd', 'c')\n",
            "('b', 'd', 'e')\n",
            "('b', 'd', 'f')\n",
            "('b', 'd', 'g')\n",
            "('b', 'e', 'a')\n",
            "('b', 'e', 'c')\n",
            "('b', 'e', 'd')\n",
            "('b', 'e', 'f')\n",
            "('b', 'e', 'g')\n",
            "('b', 'f', 'a')\n",
            "('b', 'f', 'c')\n",
            "('b', 'f', 'd')\n",
            "('b', 'f', 'e')\n",
            "('b', 'f', 'g')\n",
            "('b', 'g', 'a')\n",
            "('b', 'g', 'c')\n",
            "('b', 'g', 'd')\n",
            "('b', 'g', 'e')\n",
            "('b', 'g', 'f')\n",
            "('c', 'a', 'b')\n",
            "('c', 'a', 'd')\n",
            "('c', 'a', 'e')\n",
            "('c', 'a', 'f')\n",
            "('c', 'a', 'g')\n",
            "('c', 'b', 'a')\n",
            "('c', 'b', 'd')\n",
            "('c', 'b', 'e')\n",
            "('c', 'b', 'f')\n",
            "('c', 'b', 'g')\n",
            "('c', 'd', 'a')\n",
            "('c', 'd', 'b')\n",
            "('c', 'd', 'e')\n",
            "('c', 'd', 'f')\n",
            "('c', 'd', 'g')\n",
            "('c', 'e', 'a')\n",
            "('c', 'e', 'b')\n",
            "('c', 'e', 'd')\n",
            "('c', 'e', 'f')\n",
            "('c', 'e', 'g')\n",
            "('c', 'f', 'a')\n",
            "('c', 'f', 'b')\n",
            "('c', 'f', 'd')\n",
            "('c', 'f', 'e')\n",
            "('c', 'f', 'g')\n",
            "('c', 'g', 'a')\n",
            "('c', 'g', 'b')\n",
            "('c', 'g', 'd')\n",
            "('c', 'g', 'e')\n",
            "('c', 'g', 'f')\n",
            "('d', 'a', 'b')\n",
            "('d', 'a', 'c')\n",
            "('d', 'a', 'e')\n",
            "('d', 'a', 'f')\n",
            "('d', 'a', 'g')\n",
            "('d', 'b', 'a')\n",
            "('d', 'b', 'c')\n",
            "('d', 'b', 'e')\n",
            "('d', 'b', 'f')\n",
            "('d', 'b', 'g')\n",
            "('d', 'c', 'a')\n",
            "('d', 'c', 'b')\n",
            "('d', 'c', 'e')\n",
            "('d', 'c', 'f')\n",
            "('d', 'c', 'g')\n",
            "('d', 'e', 'a')\n",
            "('d', 'e', 'b')\n",
            "('d', 'e', 'c')\n",
            "('d', 'e', 'f')\n",
            "('d', 'e', 'g')\n",
            "('d', 'f', 'a')\n",
            "('d', 'f', 'b')\n",
            "('d', 'f', 'c')\n",
            "('d', 'f', 'e')\n",
            "('d', 'f', 'g')\n",
            "('d', 'g', 'a')\n",
            "('d', 'g', 'b')\n",
            "('d', 'g', 'c')\n",
            "('d', 'g', 'e')\n",
            "('d', 'g', 'f')\n",
            "('e', 'a', 'b')\n",
            "('e', 'a', 'c')\n",
            "('e', 'a', 'd')\n",
            "('e', 'a', 'f')\n",
            "('e', 'a', 'g')\n",
            "('e', 'b', 'a')\n",
            "('e', 'b', 'c')\n",
            "('e', 'b', 'd')\n",
            "('e', 'b', 'f')\n",
            "('e', 'b', 'g')\n",
            "('e', 'c', 'a')\n",
            "('e', 'c', 'b')\n",
            "('e', 'c', 'd')\n",
            "('e', 'c', 'f')\n",
            "('e', 'c', 'g')\n",
            "('e', 'd', 'a')\n",
            "('e', 'd', 'b')\n",
            "('e', 'd', 'c')\n",
            "('e', 'd', 'f')\n",
            "('e', 'd', 'g')\n",
            "('e', 'f', 'a')\n",
            "('e', 'f', 'b')\n",
            "('e', 'f', 'c')\n",
            "('e', 'f', 'd')\n",
            "('e', 'f', 'g')\n",
            "('e', 'g', 'a')\n",
            "('e', 'g', 'b')\n",
            "('e', 'g', 'c')\n",
            "('e', 'g', 'd')\n",
            "('e', 'g', 'f')\n",
            "('f', 'a', 'b')\n",
            "('f', 'a', 'c')\n",
            "('f', 'a', 'd')\n",
            "('f', 'a', 'e')\n",
            "('f', 'a', 'g')\n",
            "('f', 'b', 'a')\n",
            "('f', 'b', 'c')\n",
            "('f', 'b', 'd')\n",
            "('f', 'b', 'e')\n",
            "('f', 'b', 'g')\n",
            "('f', 'c', 'a')\n",
            "('f', 'c', 'b')\n",
            "('f', 'c', 'd')\n",
            "('f', 'c', 'e')\n",
            "('f', 'c', 'g')\n",
            "('f', 'd', 'a')\n",
            "('f', 'd', 'b')\n",
            "('f', 'd', 'c')\n",
            "('f', 'd', 'e')\n",
            "('f', 'd', 'g')\n",
            "('f', 'e', 'a')\n",
            "('f', 'e', 'b')\n",
            "('f', 'e', 'c')\n",
            "('f', 'e', 'd')\n",
            "('f', 'e', 'g')\n",
            "('f', 'g', 'a')\n",
            "('f', 'g', 'b')\n",
            "('f', 'g', 'c')\n",
            "('f', 'g', 'd')\n",
            "('f', 'g', 'e')\n",
            "('g', 'a', 'b')\n",
            "('g', 'a', 'c')\n",
            "('g', 'a', 'd')\n",
            "('g', 'a', 'e')\n",
            "('g', 'a', 'f')\n",
            "('g', 'b', 'a')\n",
            "('g', 'b', 'c')\n",
            "('g', 'b', 'd')\n",
            "('g', 'b', 'e')\n",
            "('g', 'b', 'f')\n",
            "('g', 'c', 'a')\n",
            "('g', 'c', 'b')\n",
            "('g', 'c', 'd')\n",
            "('g', 'c', 'e')\n",
            "('g', 'c', 'f')\n",
            "('g', 'd', 'a')\n",
            "('g', 'd', 'b')\n",
            "('g', 'd', 'c')\n",
            "('g', 'd', 'e')\n",
            "('g', 'd', 'f')\n",
            "('g', 'e', 'a')\n",
            "('g', 'e', 'b')\n",
            "('g', 'e', 'c')\n",
            "('g', 'e', 'd')\n",
            "('g', 'e', 'f')\n",
            "('g', 'f', 'a')\n",
            "('g', 'f', 'b')\n",
            "('g', 'f', 'c')\n",
            "('g', 'f', 'd')\n",
            "('g', 'f', 'e')\n"
          ]
        }
      ]
    },
    {
      "cell_type": "markdown",
      "source": [
        "## Segunda Parte de permutaciones"
      ],
      "metadata": {
        "id": "WhhKXORtNww7"
      }
    },
    {
      "cell_type": "code",
      "source": [
        "import math"
      ],
      "metadata": {
        "id": "duHMmnxkNjhu"
      },
      "execution_count": 25,
      "outputs": []
    },
    {
      "cell_type": "code",
      "source": [
        "n = 10  # número total de asistentes disponibles\n",
        "k = 4  # número de preguntas\n",
        "\n",
        "num_permutations = math.factorial(n) // math.factorial(n - k)\n",
        "\n",
        "print(\"Número de formas en que se pueden elegir los asistentes para calificar:\", num_permutations)\n",
        ""
      ],
      "metadata": {
        "colab": {
          "base_uri": "https://localhost:8080/"
        },
        "id": "DHDjDW1bNjfL",
        "outputId": "6e0e205f-caec-47ca-841d-0ded11b38d75"
      },
      "execution_count": 26,
      "outputs": [
        {
          "output_type": "stream",
          "name": "stdout",
          "text": [
            "Número de formas en que se pueden elegir los asistentes para calificar: 5040\n"
          ]
        }
      ]
    },
    {
      "cell_type": "code",
      "source": [],
      "metadata": {
        "id": "tTu-AqvENjaO"
      },
      "execution_count": null,
      "outputs": []
    }
  ]
}